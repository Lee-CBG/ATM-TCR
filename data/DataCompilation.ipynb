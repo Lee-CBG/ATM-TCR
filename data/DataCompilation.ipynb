{
 "cells": [
  {
   "cell_type": "code",
   "execution_count": 7,
   "metadata": {},
   "outputs": [],
   "source": [
    "import pandas as pd"
   ]
  },
  {
   "cell_type": "code",
   "execution_count": 19,
   "metadata": {},
   "outputs": [],
   "source": [
    "# List of Files to Compile\n",
    "documents = []\n",
    "documents.append('iedb_data.csv')\n",
    "documents.append('vdjdb_data.csv')\n",
    "documents.append('tcrgp_data.txt')"
   ]
  },
  {
   "cell_type": "code",
   "execution_count": 32,
   "metadata": {},
   "outputs": [
    {
     "name": "stdout",
     "output_type": "stream",
     "text": [
      "              Epitope              TCR Score\n",
      "0       LPEPLPQGQLTAY       SGFYNTDKLI     1\n",
      "1           SLLMWITQC      RPTSGGSYIPT     1\n",
      "2           SLLMWITQV      RPTSGGSYIPT     1\n",
      "3     GELIGTLNAAKVPAD        LIQGAQKLV     1\n",
      "4           CLGGLLTMV      RDMNSGNTPLV     1\n",
      "...               ...              ...   ...\n",
      "5779        YVLDHLIVV    ASTPWDIYNSPLH     0\n",
      "5780        YVLDHLIVV       SVPGQGDEQY     0\n",
      "5781        YVLDHLIVV    ASSYSTGSSDTQY     0\n",
      "5782        YVLDHLIVV   ASSLTSTGSNQPQH     0\n",
      "5783        YVLDHLIVV  ASSEGGGWGRSTEAF     0\n",
      "\n",
      "[73495 rows x 3 columns]\n"
     ]
    }
   ],
   "source": [
    "columnLabels = ['Epitope', 'TCR', 'Score']\n",
    "compiledData = pd.DataFrame(columns=columnLabels)\n",
    "for fileName in documents:\n",
    "    df = pd.read_csv(fileName, '\\t', header=None, names=columnLabels)\n",
    "    compiledData = compiledData.append(df)\n",
    "df.Score = df.Score.astype(int)\n",
    "print(compiledData)\n",
    "compiledData.to_csv('finalData.csv', sep='\\t', index=False, header=False)"
   ]
  }
 ],
 "metadata": {
  "kernelspec": {
   "display_name": "Python 3",
   "language": "python",
   "name": "python3"
  },
  "language_info": {
   "codemirror_mode": {
    "name": "ipython",
    "version": 3
   },
   "file_extension": ".py",
   "mimetype": "text/x-python",
   "name": "python",
   "nbconvert_exporter": "python",
   "pygments_lexer": "ipython3",
   "version": "3.6.9"
  }
 },
 "nbformat": 4,
 "nbformat_minor": 4
}
