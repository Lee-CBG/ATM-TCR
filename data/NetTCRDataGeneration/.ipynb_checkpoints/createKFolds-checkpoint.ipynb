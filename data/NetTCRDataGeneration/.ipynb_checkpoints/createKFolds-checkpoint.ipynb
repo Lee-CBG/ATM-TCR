{
 "cells": [
  {
   "cell_type": "code",
   "execution_count": 1,
   "metadata": {},
   "outputs": [
    {
     "data": {
      "text/html": [
       "<div>\n",
       "<style scoped>\n",
       "    .dataframe tbody tr th:only-of-type {\n",
       "        vertical-align: middle;\n",
       "    }\n",
       "\n",
       "    .dataframe tbody tr th {\n",
       "        vertical-align: top;\n",
       "    }\n",
       "\n",
       "    .dataframe thead th {\n",
       "        text-align: right;\n",
       "    }\n",
       "</style>\n",
       "<table border=\"1\" class=\"dataframe\">\n",
       "  <thead>\n",
       "    <tr style=\"text-align: right;\">\n",
       "      <th></th>\n",
       "      <th>peptide</th>\n",
       "      <th>cdr3</th>\n",
       "      <th>type</th>\n",
       "      <th>score</th>\n",
       "    </tr>\n",
       "  </thead>\n",
       "  <tbody>\n",
       "    <tr>\n",
       "      <th>0</th>\n",
       "      <td>AAGIGILTV</td>\n",
       "      <td>AISEVGVGQPQH</td>\n",
       "      <td>HLA-A02:01</td>\n",
       "      <td>1</td>\n",
       "    </tr>\n",
       "    <tr>\n",
       "      <th>1</th>\n",
       "      <td>AAGIGILTV</td>\n",
       "      <td>ASSLSFGTEAF</td>\n",
       "      <td>HLA-A02:01</td>\n",
       "      <td>1</td>\n",
       "    </tr>\n",
       "  </tbody>\n",
       "</table>\n",
       "</div>"
      ],
      "text/plain": [
       "     peptide          cdr3        type  score\n",
       "0  AAGIGILTV  AISEVGVGQPQH  HLA-A02:01      1\n",
       "1  AAGIGILTV   ASSLSFGTEAF  HLA-A02:01      1"
      ]
     },
     "execution_count": 1,
     "metadata": {},
     "output_type": "execute_result"
    }
   ],
   "source": [
    "import pandas as pd\n",
    "import numpy as np\n",
    "import random\n",
    "from sklearn.model_selection import KFold\n",
    "\n",
    "np.random.seed(621)\n",
    "data = pd.read_csv('finalData.csv', sep=\"\\t\", header=0)\n",
    "data.head(5)"
   ]
  },
  {
   "cell_type": "code",
   "execution_count": 2,
   "metadata": {},
   "outputs": [
    {
     "name": "stdout",
     "output_type": "stream",
     "text": [
      "neg: 72115\n",
      "pos: 9328\n"
     ]
    }
   ],
   "source": [
    "# Get original data and separate into negative and positive\n",
    "data = data.filter(['peptide', 'cdr3', 'score'])\n",
    "data.count() #81443\n",
    "posData = data.loc[data['score'] == 1]\n",
    "negData = data.loc[data['score'] == 0]\n",
    "print(\"neg: \" + str(negData['peptide'].count()))\n",
    "print(\"pos: \" + str(posData['peptide'].count()))"
   ]
  },
  {
   "cell_type": "code",
   "execution_count": 36,
   "metadata": {},
   "outputs": [],
   "source": [
    "# Retrieve a set of testing data\n",
    "trainArray = []\n",
    "testArray = []\n",
    "for i in range(10):\n",
    "    posTrainSample = posData.sample(frac = 0.3)\n",
    "    negTrainSample = negData.sample(n = posTrainSample['peptide'].count())\n",
    "    trainSample = pd.concat([posTrainSample, negTrainSample])\n",
    "    testSample = data.drop(trainSample.index)\n",
    "    trainArray.append(trainSample)\n",
    "    testArray.append(testSample)"
   ]
  },
  {
   "cell_type": "code",
   "execution_count": 9,
   "metadata": {
    "scrolled": true
   },
   "outputs": [
    {
     "name": "stdout",
     "output_type": "stream",
     "text": [
      "TRAIN: [   0    2    4 ... 9325 9326 9327] TEST: [   1    3   17 ... 9301 9312 9321]\n",
      "TRAIN: [   1    2    3 ... 9325 9326 9327] TEST: [   0    8   15 ... 9320 9322 9324]\n",
      "TRAIN: [   0    1    3 ... 9324 9326 9327] TEST: [   2    6    9 ... 9311 9313 9325]\n",
      "TRAIN: [   0    1    2 ... 9324 9325 9326] TEST: [  10   21   24 ... 9318 9319 9327]\n",
      "TRAIN: [   0    1    2 ... 9324 9325 9327] TEST: [   4    5    7 ... 9306 9323 9326]\n"
     ]
    },
    {
     "data": {
      "text/html": [
       "<div>\n",
       "<style scoped>\n",
       "    .dataframe tbody tr th:only-of-type {\n",
       "        vertical-align: middle;\n",
       "    }\n",
       "\n",
       "    .dataframe tbody tr th {\n",
       "        vertical-align: top;\n",
       "    }\n",
       "\n",
       "    .dataframe thead th {\n",
       "        text-align: right;\n",
       "    }\n",
       "</style>\n",
       "<table border=\"1\" class=\"dataframe\">\n",
       "  <thead>\n",
       "    <tr style=\"text-align: right;\">\n",
       "      <th></th>\n",
       "      <th>peptide</th>\n",
       "      <th>cdr3</th>\n",
       "      <th>score</th>\n",
       "    </tr>\n",
       "  </thead>\n",
       "  <tbody>\n",
       "    <tr>\n",
       "      <th>0</th>\n",
       "      <td>AAGIGILTV</td>\n",
       "      <td>AISEVGVGQPQH</td>\n",
       "      <td>1</td>\n",
       "    </tr>\n",
       "    <tr>\n",
       "      <th>1</th>\n",
       "      <td>AAGIGILTV</td>\n",
       "      <td>ASSLSFGTEAF</td>\n",
       "      <td>1</td>\n",
       "    </tr>\n",
       "    <tr>\n",
       "      <th>2</th>\n",
       "      <td>AAGIGILTV</td>\n",
       "      <td>ASSWSFGTEAF</td>\n",
       "      <td>1</td>\n",
       "    </tr>\n",
       "    <tr>\n",
       "      <th>3</th>\n",
       "      <td>AAGIGILTV</td>\n",
       "      <td>AWSETGLGTGELF</td>\n",
       "      <td>1</td>\n",
       "    </tr>\n",
       "    <tr>\n",
       "      <th>6</th>\n",
       "      <td>AIMDKNIIL</td>\n",
       "      <td>SVEGLSYGYT</td>\n",
       "      <td>1</td>\n",
       "    </tr>\n",
       "    <tr>\n",
       "      <th>...</th>\n",
       "      <td>...</td>\n",
       "      <td>...</td>\n",
       "      <td>...</td>\n",
       "    </tr>\n",
       "    <tr>\n",
       "      <th>9321</th>\n",
       "      <td>YVLDHLIVV</td>\n",
       "      <td>SLTANDAYGYT</td>\n",
       "      <td>1</td>\n",
       "    </tr>\n",
       "    <tr>\n",
       "      <th>9322</th>\n",
       "      <td>YVLDHLIVV</td>\n",
       "      <td>STSATENYGYT</td>\n",
       "      <td>1</td>\n",
       "    </tr>\n",
       "    <tr>\n",
       "      <th>9324</th>\n",
       "      <td>YVLDHLIVV</td>\n",
       "      <td>SVGGTSGGQIQETQY</td>\n",
       "      <td>1</td>\n",
       "    </tr>\n",
       "    <tr>\n",
       "      <th>9325</th>\n",
       "      <td>YVLDHLIVV</td>\n",
       "      <td>SVGQALYNEQF</td>\n",
       "      <td>1</td>\n",
       "    </tr>\n",
       "    <tr>\n",
       "      <th>9327</th>\n",
       "      <td>YVLDHLIVV</td>\n",
       "      <td>SVVSTLGGMNEQY</td>\n",
       "      <td>1</td>\n",
       "    </tr>\n",
       "  </tbody>\n",
       "</table>\n",
       "<p>7463 rows × 3 columns</p>\n",
       "</div>"
      ],
      "text/plain": [
       "        peptide             cdr3  score\n",
       "0     AAGIGILTV     AISEVGVGQPQH      1\n",
       "1     AAGIGILTV      ASSLSFGTEAF      1\n",
       "2     AAGIGILTV      ASSWSFGTEAF      1\n",
       "3     AAGIGILTV    AWSETGLGTGELF      1\n",
       "6     AIMDKNIIL       SVEGLSYGYT      1\n",
       "...         ...              ...    ...\n",
       "9321  YVLDHLIVV      SLTANDAYGYT      1\n",
       "9322  YVLDHLIVV      STSATENYGYT      1\n",
       "9324  YVLDHLIVV  SVGGTSGGQIQETQY      1\n",
       "9325  YVLDHLIVV      SVGQALYNEQF      1\n",
       "9327  YVLDHLIVV    SVVSTLGGMNEQY      1\n",
       "\n",
       "[7463 rows x 3 columns]"
      ]
     },
     "execution_count": 9,
     "metadata": {},
     "output_type": "execute_result"
    }
   ],
   "source": [
    "# Getting K-Folds for the positive and negative data split on the training data\n",
    "poskf = KFold(n_splits=5, shuffle=True)\n",
    "negkf = KFold(n_splits=5, shuffle=True)\n",
    "for pos_train_index, pos_test_index, neg_train_index, neg_test, index in zip(poskf.split(posData), poskf.split(negData)):\n",
    "    pos_train, pos_test = posData.iloc[pos_train_index], posData.iloc[pos_test_index]\n",
    "    neg_train, neg_test = negData.iloc[neg_train_index], negData.iloc[neg_test_index]\n",
    "    trainingData = pd.concat(pos_train, neg_train)\n",
    "    testingData = pd.concat(pos_test, neg_test)"
   ]
  },
  {
   "cell_type": "code",
   "execution_count": 38,
   "metadata": {},
   "outputs": [],
   "source": [
    "#train.to_csv('TCRTrainingData.txt', sep='\\t', header=False, index=False)\n",
    "for index, i in enumerate(trainArray):\n",
    "    trainFilename = 'NetTCROriginalData/TCRTrainingData' + str(index) + '.txt'\n",
    "    i.to_csv(trainFilename, sep='\\t', header=False, index=False)\n",
    "for index, i in enumerate(testArray):\n",
    "    testFilename = 'NetTCROriginalData/TCRTestingActual' + str(index) + '.txt'\n",
    "    i.to_csv(testFilename, sep='\\t', header=False, index=False)"
   ]
  },
  {
   "cell_type": "code",
   "execution_count": null,
   "metadata": {},
   "outputs": [],
   "source": []
  }
 ],
 "metadata": {
  "kernelspec": {
   "display_name": "Python 3",
   "language": "python",
   "name": "python3"
  },
  "language_info": {
   "codemirror_mode": {
    "name": "ipython",
    "version": 3
   },
   "file_extension": ".py",
   "mimetype": "text/x-python",
   "name": "python",
   "nbconvert_exporter": "python",
   "pygments_lexer": "ipython3",
   "version": "3.6.9"
  }
 },
 "nbformat": 4,
 "nbformat_minor": 4
}
