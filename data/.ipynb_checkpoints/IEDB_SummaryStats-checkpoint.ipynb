{
 "cells": [
  {
   "cell_type": "code",
   "execution_count": 7,
   "metadata": {},
   "outputs": [],
   "source": [
    "import pandas as pd\n",
    "pd.set_option(\"display.max.columns\", None)\n",
    "\n",
    "iedbfile = pd.read_csv('iedb_data.csv', sep=',', error_bad_lines=False, dtype='unicode')\n",
    "new_header = iedbfile.iloc[0] \n",
    "iedbfile = iedbfile[1:] \n",
    "iedbfile.columns = new_header"
   ]
  },
  {
   "cell_type": "code",
   "execution_count": null,
   "metadata": {},
   "outputs": [],
   "source": [
    "#iedbfile['MHC Types Present'].unique()\n",
    "#iedbfile['Allele Name'].unique() #HLA-A*01:01\n",
    "#a = iedbfile['Antigen Description'].unique()\n",
    "df = iedbfile[['Antigen Description', 'MHC Types Present', 'Class', 'Allele Name']]\n",
    "df"
   ]
  },
  {
   "cell_type": "code",
   "execution_count": null,
   "metadata": {},
   "outputs": [],
   "source": [
    "temp = df[(df['Allele Name'] == 'HLA-A*02:01')]\n",
    "print('HLA-A*02:01: ' + str(temp.shape[0]))\n",
    "temp = df[(df['Class'] == 'I')]\n",
    "print('MHC Class I: ' + str(temp.shape[0]))\n",
    "temp2 = df[(df['Class'] == 'II')]\n",
    "print('MHC Class II: ' + str(temp2.shape[0]))\n",
    "print('Total: ' + str(df.shape[0]))"
   ]
  }
 ],
 "metadata": {
  "kernelspec": {
   "display_name": "Python 3",
   "language": "python",
   "name": "python3"
  },
  "language_info": {
   "codemirror_mode": {
    "name": "ipython",
    "version": 3
   },
   "file_extension": ".py",
   "mimetype": "text/x-python",
   "name": "python",
   "nbconvert_exporter": "python",
   "pygments_lexer": "ipython3",
   "version": "3.6.9"
  }
 },
 "nbformat": 4,
 "nbformat_minor": 2
}
