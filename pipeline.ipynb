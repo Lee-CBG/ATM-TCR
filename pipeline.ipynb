{
 "cells": [
  {
   "cell_type": "code",
   "execution_count": null,
   "metadata": {},
   "outputs": [],
   "source": [
    "import main"
   ]
  },
  {
   "cell_type": "code",
   "execution_count": null,
   "metadata": {},
   "outputs": [],
   "source": [
    "# Define hyperparameters and basic information\n",
    "infile = 'data/TCRGP_epitope2cdr3_cleaned_wLabel.txt'\n",
    "indepData = None\n",
    "blosumPath = 'data/BLOSUM50'\n",
    "batchSize = 50\n",
    "name = 'newModel.ckpt'\n",
    "epochs = 200\n",
    "alpha = 0.001\n",
    "cudaFlag = False\n",
    "randomSeed = 621\n",
    "modeType = 'train'\n",
    "modelType = 'cnn'"
   ]
  },
  {
   "cell_type": "code",
   "execution_count": null,
   "metadata": {},
   "outputs": [],
   "source": [
    "main.run(infile, indepfile=indepData, blosum=blosumPath, batch_size=batchSize, model_name=name, \n",
    "         epoch=epochs, lr=alpha, cuda=cudaFlag, seed=randomSeed, mode=modeType, model=modelType)"
   ]
  }
 ],
 "metadata": {
  "kernelspec": {
   "display_name": "Python 3",
   "language": "python",
   "name": "python3"
  },
  "language_info": {
   "codemirror_mode": {
    "name": "ipython",
    "version": 3
   },
   "file_extension": ".py",
   "mimetype": "text/x-python",
   "name": "python",
   "nbconvert_exporter": "python",
   "pygments_lexer": "ipython3",
   "version": "3.6.9"
  }
 },
 "nbformat": 4,
 "nbformat_minor": 4
}
