{
 "metadata": {
  "language_info": {
   "codemirror_mode": {
    "name": "ipython",
    "version": 3
   },
   "file_extension": ".py",
   "mimetype": "text/x-python",
   "name": "python",
   "nbconvert_exporter": "python",
   "pygments_lexer": "ipython3",
   "version": "3.8.6-final"
  },
  "orig_nbformat": 2,
  "kernelspec": {
   "name": "Python 3.8.6 64-bit",
   "display_name": "Python 3.8.6 64-bit",
   "metadata": {
    "interpreter": {
     "hash": "fa68edcd4b609fc3fb4a36198f7b081c67a25cca183b07b56f791de98012673d"
    }
   }
  }
 },
 "nbformat": 4,
 "nbformat_minor": 2,
 "cells": [
  {
   "cell_type": "code",
   "execution_count": null,
   "metadata": {},
   "outputs": [],
   "source": [
    "import os\n",
    "import pandas as pd\n",
    "import csv  \n",
    "import glob\n",
    "import re\n",
    "import ast\n",
    "from collections import defaultdict "
   ]
  },
  {
   "cell_type": "code",
   "execution_count": null,
   "metadata": {},
   "outputs": [],
   "source": [
    "data = pd.read_csv('accVsprop.csv')\n",
    "pepNames = data['pepName'].unique()\n",
    "data"
   ]
  },
  {
   "cell_type": "code",
   "execution_count": null,
   "metadata": {},
   "outputs": [],
   "source": [
    "properties = ['basicity', 'hydrophobicity', 'helicity', 'mutation_stability']\n",
    "length = 20\n",
    "\n",
    "def findGraphValues(df, prop, initialSize):\n",
    "    finalValues = defaultdict(int)\n",
    "    toAdd = df[prop].tolist()\n",
    "    for item in toAdd:\n",
    "        castedItem = ast.literal_eval(item)\n",
    "        for value in castedItem:\n",
    "            if value != 0:\n",
    "                finalValues[float(value)] += 1\n",
    "    return finalValues\n",
    "\n",
    "def populateDataframe(values, correct, incorrect):\n",
    "    rowsForDF = []\n",
    "    rowsForGT = []\n",
    "    correctTotal = sum(correct.values())\n",
    "    incorrectTotal = sum(incorrect.values())\n",
    "    for i in values:\n",
    "        correctValue = correct.get(i, 0) / correctTotal\n",
    "        incorrectValue = incorrect.get(i, 0) / incorrectTotal\n",
    "        both = (correct.get(i, 0) + incorrect.get(i, 0)) / (correctTotal + incorrectTotal)\n",
    "        rowsForDF.append([i, correctValue, incorrectValue])\n",
    "        rowsForGT.append([i, both])\n",
    "    toPlot = pd.DataFrame(rowsForDF, columns=['value', 'correct', 'incorrect'])\n",
    "    toPlot = toPlot.set_index('value')\n",
    "    groundTruth = pd.DataFrame(rowsForGT, columns=['value', 'probability'])\n",
    "    groundTruth = groundTruth.set_index('value')\n",
    "    return toPlot, groundTruth\n"
   ]
  },
  {
   "cell_type": "code",
   "execution_count": null,
   "metadata": {},
   "outputs": [],
   "source": [
    "for prop in properties:\n",
    "    for name in pepNames:\n",
    "        peptideName = re.sub('@', '', name)\n",
    "        filteredData = data.loc[data['pepName'] == name]\n",
    "        incorrect = filteredData.loc[data['correct'] == 0]\n",
    "        correct = filteredData.loc[data['correct'] == 1]\n",
    "        ivalues = findGraphValues(incorrect, prop, length)\n",
    "        cvalues = findGraphValues(correct, prop, length)\n",
    "        propValues = list(set(ivalues.keys()).union(set(cvalues.keys())))\n",
    "        propValues.sort()\n",
    "        toPlot, groundTruth = populateDataframe(propValues, cvalues, ivalues)\n",
    "        title = f'{peptideName} {prop} '\n",
    "        fig = toPlot.plot.area(alpha=0.75, stacked=False, title=title + 'analysis', xlabel=prop, ylabel='probability').get_figure()\n",
    "        fig.savefig(f'figures/physchm/{title}analysis.png', dpi=300)\n",
    "        fig =groundTruth.plot.area(alpha=1, stacked=False, title=title + 'ground truth', xlabel=prop, ylabel='probability').get_figure()\n",
    "        fig.savefig(f'figures/physchm/{title}ground truth.png', dpi=300)\n",
    "        "
   ]
  }
 ]
}