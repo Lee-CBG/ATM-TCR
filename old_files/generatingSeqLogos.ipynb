{
 "metadata": {
  "language_info": {
   "codemirror_mode": {
    "name": "ipython",
    "version": 3
   },
   "file_extension": ".py",
   "mimetype": "text/x-python",
   "name": "python",
   "nbconvert_exporter": "python",
   "pygments_lexer": "ipython3",
   "version": "3.8.6-final"
  },
  "orig_nbformat": 2,
  "kernelspec": {
   "name": "Python 3.8.6 64-bit",
   "display_name": "Python 3.8.6 64-bit",
   "metadata": {
    "interpreter": {
     "hash": "fa68edcd4b609fc3fb4a36198f7b081c67a25cca183b07b56f791de98012673d"
    }
   }
  }
 },
 "nbformat": 4,
 "nbformat_minor": 2,
 "cells": [
  {
   "cell_type": "code",
   "execution_count": null,
   "metadata": {},
   "outputs": [],
   "source": [
    "import os\n",
    "import pandas as pd\n",
    "import numpy as np\n",
    "import csv  \n",
    "import glob\n",
    "import logomaker as lm\n",
    "import re\n",
    "import matplotlib.pyplot as plt\n",
    "%matplotlib inline\n",
    "plt.ion()\n",
    "from collections import defaultdict "
   ]
  },
  {
   "cell_type": "code",
   "execution_count": null,
   "metadata": {
    "tags": []
   },
   "outputs": [],
   "source": [
    "files = glob.glob(os.getcwd() + \"/seqLogo/*.csv\")\n",
    "allPeptides = {}\n",
    "\n",
    "def createTwoLists():\n",
    "    return [[], []]\n",
    "\n",
    "for fileName in files:\n",
    "    openedFile = open(fileName, 'r')\n",
    "    f = csv.reader(openedFile, delimiter=\",\")\n",
    "    for line in f:  \n",
    "        # Only get supposed to bind ones\n",
    "        if line[2] == '1':\n",
    "            peptideName = re.sub('@', '', line[0])\n",
    "            if peptideName not in allPeptides:\n",
    "                allPeptides[peptideName] = createTwoLists()\n",
    "            newGaps = re.sub('@', '.', line[1])\n",
    "            if line[3] == '1':\n",
    "                allPeptides[peptideName][0].append(newGaps)\n",
    "            else:\n",
    "                allPeptides[peptideName][1].append(newGaps)"
   ]
  },
  {
   "cell_type": "code",
   "execution_count": null,
   "metadata": {},
   "outputs": [],
   "source": [
    "def printSeqLogoWithIC(sequences, name):\n",
    "    ww_counts_df = lm.alignment_to_matrix(sequences=sequences, to_type='information', characters_to_ignore='.-X')\n",
    "    # Crop to Content\n",
    "    #num_seqs = ww_counts_df.sum(axis=1)\n",
    "    #pos_to_keep = num_seqs > 0\n",
    "    #ww_counts_df = ww_counts_df[pos_to_keep]\n",
    "    #ww_counts_df.reset_index(drop=True, inplace=True)\n",
    "    # Make logo\n",
    "    logo = lm.Logo(ww_counts_df, font_name = 'Arial Rounded MT Bold', color_scheme='chemistry')\n",
    "    plt.suptitle(name)\n",
    "    plt.ylabel(\"Entropy (bits)\")\n",
    "    plt.xlabel(\"Position\")\n",
    "    plt.tight_layout()\n",
    "    plt.savefig(f'figures/seqlogo/{name}.png')\n",
    "    plt.show()\n",
    "    "
   ]
  },
  {
   "cell_type": "code",
   "execution_count": null,
   "metadata": {},
   "outputs": [],
   "source": [
    "def printLogo(peptide, results):\n",
    "    print(peptide)\n",
    "    correct = results[0]\n",
    "    incorrect = results[1]\n",
    "    printSeqLogoWithIC(correct, f'{peptide} correct')\n",
    "    printSeqLogoWithIC(incorrect, f'{peptide} incorrect')\n",
    "\n",
    "for peptideName in allPeptides.keys():\n",
    "    print(peptideName)"
   ]
  },
  {
   "cell_type": "code",
   "execution_count": null,
   "metadata": {},
   "outputs": [],
   "source": [
    "printLogo('RAKFKQLL', allPeptides['RAKFKQLL'])"
   ]
  },
  {
   "cell_type": "code",
   "execution_count": null,
   "metadata": {},
   "outputs": [],
   "source": [
    "printLogo('GLCTLVAML', allPeptides['GLCTLVAML'])"
   ]
  },
  {
   "cell_type": "code",
   "execution_count": null,
   "metadata": {},
   "outputs": [],
   "source": [
    "printLogo('NLVPMVATV', allPeptides['NLVPMVATV'])\n"
   ]
  },
  {
   "cell_type": "code",
   "execution_count": null,
   "metadata": {},
   "outputs": [],
   "source": [
    "printLogo('GILGFVFTL', allPeptides['GILGFVFTL'])\n"
   ]
  },
  {
   "cell_type": "code",
   "execution_count": null,
   "metadata": {},
   "outputs": [],
   "source": [
    "printLogo('FLKEKGGL', allPeptides['FLKEKGGL'])\n"
   ]
  },
  {
   "cell_type": "code",
   "execution_count": null,
   "metadata": {},
   "outputs": [],
   "source": [
    "printLogo('IPSINVHHY', allPeptides['IPSINVHHY'])\n"
   ]
  },
  {
   "cell_type": "code",
   "execution_count": null,
   "metadata": {},
   "outputs": [],
   "source": [
    "printLogo('TPRVTGGGAM', allPeptides['TPRVTGGGAM'])\n"
   ]
  },
  {
   "cell_type": "code",
   "execution_count": null,
   "metadata": {},
   "outputs": [],
   "source": [
    "printLogo('LLWNGPMAV', allPeptides['LLWNGPMAV'])\n"
   ]
  },
  {
   "cell_type": "code",
   "execution_count": null,
   "metadata": {},
   "outputs": [],
   "source": [
    "printLogo('KRWIILGLNK', allPeptides['KRWIILGLNK'])\n"
   ]
  },
  {
   "cell_type": "code",
   "execution_count": null,
   "metadata": {},
   "outputs": [],
   "source": [
    "printLogo('GTSGSPIINR', allPeptides['GTSGSPIINR'])\n"
   ]
  },
  {
   "cell_type": "code",
   "execution_count": null,
   "metadata": {},
   "outputs": [],
   "source": [
    "printLogo('GTSGSPIVNR', allPeptides['GTSGSPIVNR'])\n"
   ]
  },
  {
   "cell_type": "code",
   "execution_count": null,
   "metadata": {},
   "outputs": [],
   "source": [
    "printLogo('YVLDHLIVV', allPeptides['YVLDHLIVV'])"
   ]
  },
  {
   "cell_type": "code",
   "execution_count": null,
   "metadata": {},
   "outputs": [],
   "source": [
    "printLogo('ATDALMTGY', allPeptides['ATDALMTGY'])"
   ]
  },
  {
   "cell_type": "code",
   "execution_count": null,
   "metadata": {},
   "outputs": [],
   "source": [
    "printLogo('EIYKRWII', allPeptides['EIYKRWII'])"
   ]
  },
  {
   "cell_type": "code",
   "execution_count": null,
   "metadata": {},
   "outputs": [],
   "source": [
    "printLogo('RPRGEVRFL', allPeptides['RPRGEVRFL'])"
   ]
  },
  {
   "cell_type": "code",
   "execution_count": null,
   "metadata": {},
   "outputs": [],
   "source": [
    "printLogo('KAFSPEVIPMF', allPeptides['KAFSPEVIPMF'])"
   ]
  },
  {
   "cell_type": "code",
   "execution_count": null,
   "metadata": {},
   "outputs": [],
   "source": [
    "printLogo('KLVALGINAV', allPeptides['KLVALGINAV'])"
   ]
  },
  {
   "cell_type": "code",
   "execution_count": null,
   "metadata": {},
   "outputs": [],
   "source": [
    "printLogo('CINGVCWTV', allPeptides['CINGVCWTV'])"
   ]
  },
  {
   "cell_type": "code",
   "execution_count": null,
   "metadata": {},
   "outputs": [],
   "source": [
    "printLogo('GPGHKARVL', allPeptides['GPGHKARVL'])"
   ]
  },
  {
   "cell_type": "code",
   "execution_count": null,
   "metadata": {},
   "outputs": [],
   "source": [
    "printLogo('PKYVKQNTLKLAT', allPeptides['PKYVKQNTLKLAT'])"
   ]
  },
  {
   "cell_type": "code",
   "execution_count": null,
   "metadata": {},
   "outputs": [],
   "source": [
    "printLogo('TPQDLNTML', allPeptides['TPQDLNTML'])\n"
   ]
  }
 ]
}